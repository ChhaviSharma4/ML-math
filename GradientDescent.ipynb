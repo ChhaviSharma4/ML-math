{
 "cells": [
  {
   "cell_type": "markdown",
   "metadata": {},
   "source": [
    "# Gradient Descent "
   ]
  },
  {
   "cell_type": "markdown",
   "metadata": {},
   "source": [
    "## To calculate the optimal values of 'm' and 'b'"
   ]
  },
  {
   "cell_type": "code",
   "execution_count": 53,
   "metadata": {
    "collapsed": false
   },
   "outputs": [],
   "source": [
    "from numpy import *"
   ]
  },
  {
   "cell_type": "code",
   "execution_count": 54,
   "metadata": {
    "collapsed": true
   },
   "outputs": [],
   "source": [
    "def errorFunc(points,b,m):\n",
    "    sumTotal = 0;\n",
    "    for i in range(0,len(points)):\n",
    "        sumTotal += (points[i,1] - (m*points[i,0] + b))**2\n",
    "    return (sumTotal/float(len(points)))"
   ]
  },
  {
   "cell_type": "code",
   "execution_count": 55,
   "metadata": {
    "collapsed": true
   },
   "outputs": [],
   "source": [
    "def gradStep(curr_b, curr_m, points, learning_rate):\n",
    "    b_grad = 0\n",
    "    m_grad = 0\n",
    "    N = float(len(points))\n",
    "    for i in range(0,len(points)):\n",
    "        b_grad += -(2/N) * (points[i,1] - ((curr_m*points[i,0]) + curr_b))\n",
    "        m_grad += -(2/N) * points[i,0] * (points[i,1] - ((curr_m*points[i,0]) + curr_b))\n",
    "    new_b = curr_b - (learning_rate* b_grad)\n",
    "    new_m = curr_m - (learning_rate * m_grad)\n",
    "    return [new_b, new_m]"
   ]
  },
  {
   "cell_type": "code",
   "execution_count": 56,
   "metadata": {
    "collapsed": true
   },
   "outputs": [],
   "source": [
    "def gradFunc(initial_b, inital_m, epochs, points,learning_rate):\n",
    "    b = initial_b\n",
    "    m = inital_m\n",
    "    for i in range(epochs):\n",
    "        b, m = gradStep(b, m, array(points),learning_rate)\n",
    "    return [b,m]"
   ]
  },
  {
   "cell_type": "code",
   "execution_count": 73,
   "metadata": {
    "collapsed": true
   },
   "outputs": [],
   "source": [
    "def run():\n",
    "    points = genfromtxt(\"data.csv\", delimiter=\",\")\n",
    "    learning_rate = 0.0001\n",
    "    initial_b = 0\n",
    "    initial_m = 0\n",
    "    epochs = 1000\n",
    "    print (\"Starting gradient descent at b = {0}, m = {1}, error = {2}\".format(initial_b, initial_m, errorFunc(points,initial_b, initial_m)))\n",
    "    print (\"Running...\")\n",
    "    [b, m] = gradFunc(initial_b, initial_m, epochs,points,learning_rate)\n",
    "    print \"After {0} iterations b = {1}, m = {2}, error = {3}\".format(epochs, b, m, errorFunc(points,b, m))\n"
   ]
  },
  {
   "cell_type": "code",
   "execution_count": 74,
   "metadata": {
    "collapsed": false
   },
   "outputs": [
    {
     "name": "stdout",
     "output_type": "stream",
     "text": [
      "Starting gradient descent at b = 0, m = 0, error = 5565.10783448\n",
      "Running...\n",
      "After 1000 iterations b = 0.0889365199374, m = 1.47774408519, error = 112.614810116\n"
     ]
    }
   ],
   "source": [
    "if __name__ == '__main__':\n",
    "    run()"
   ]
  },
  {
   "cell_type": "code",
   "execution_count": null,
   "metadata": {
    "collapsed": true
   },
   "outputs": [],
   "source": []
  }
 ],
 "metadata": {
  "anaconda-cloud": {},
  "kernelspec": {
   "display_name": "Python [conda env:gl-env]",
   "language": "python",
   "name": "conda-env-gl-env-py"
  },
  "language_info": {
   "codemirror_mode": {
    "name": "ipython",
    "version": 2
   },
   "file_extension": ".py",
   "mimetype": "text/x-python",
   "name": "python",
   "nbconvert_exporter": "python",
   "pygments_lexer": "ipython2",
   "version": "2.7.12"
  }
 },
 "nbformat": 4,
 "nbformat_minor": 1
}
